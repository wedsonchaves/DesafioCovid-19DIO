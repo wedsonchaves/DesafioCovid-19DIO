{
  "nbformat": 4,
  "nbformat_minor": 0,
  "metadata": {
    "colab": {
      "name": "AnaliseCovid-19.ipynb",
      "provenance": [],
      "mount_file_id": "1I8_tWFxQ-KaxN2OjMRUCRn_aeKFE-qC1",
      "authorship_tag": "ABX9TyP3VbL17MIBesaQUHbjCtl3",
      "include_colab_link": true
    },
    "kernelspec": {
      "name": "python3",
      "display_name": "Python 3"
    },
    "language_info": {
      "name": "python"
    }
  },
  "cells": [
    {
      "cell_type": "markdown",
      "metadata": {
        "id": "view-in-github",
        "colab_type": "text"
      },
      "source": [
        "<a href=\"https://colab.research.google.com/github/wedsonchaves/DesafioCovid-19DIO/blob/main/AnaliseCovid_19.ipynb\" target=\"_parent\"><img src=\"https://colab.research.google.com/assets/colab-badge.svg\" alt=\"Open In Colab\"/></a>"
      ]
    },
    {
      "cell_type": "code",
      "metadata": {
        "id": "WcR0DJJTKkiQ"
      },
      "source": [
        "import pandas as pd "
      ],
      "execution_count": null,
      "outputs": []
    },
    {
      "cell_type": "code",
      "metadata": {
        "id": "73aa0yv-LRSY"
      },
      "source": [
        "df = pd.read_csv(\"/content/drive/MyDrive/HIST_PAINEL_COVIDBR_13ago2021/HIST_PAINEL_COVIDBR_2021_Parte1_13ago2021.csv\", error_bad_lines=False, sep=\";\")"
      ],
      "execution_count": null,
      "outputs": []
    },
    {
      "cell_type": "code",
      "metadata": {
        "colab": {
          "base_uri": "https://localhost:8080/",
          "height": 309
        },
        "id": "asI63_XkL8Kn",
        "outputId": "9ec92d7d-16bd-42ad-960e-304ec58eae89"
      },
      "source": [
        "#visualizando as cinco primeira linhas \n",
        "df.head()"
      ],
      "execution_count": null,
      "outputs": [
        {
          "output_type": "execute_result",
          "data": {
            "text/html": [
              "<div>\n",
              "<style scoped>\n",
              "    .dataframe tbody tr th:only-of-type {\n",
              "        vertical-align: middle;\n",
              "    }\n",
              "\n",
              "    .dataframe tbody tr th {\n",
              "        vertical-align: top;\n",
              "    }\n",
              "\n",
              "    .dataframe thead th {\n",
              "        text-align: right;\n",
              "    }\n",
              "</style>\n",
              "<table border=\"1\" class=\"dataframe\">\n",
              "  <thead>\n",
              "    <tr style=\"text-align: right;\">\n",
              "      <th></th>\n",
              "      <th>regiao</th>\n",
              "      <th>estado</th>\n",
              "      <th>municipio</th>\n",
              "      <th>coduf</th>\n",
              "      <th>codmun</th>\n",
              "      <th>codRegiaoSaude</th>\n",
              "      <th>nomeRegiaoSaude</th>\n",
              "      <th>data</th>\n",
              "      <th>semanaEpi</th>\n",
              "      <th>populacaoTCU2019</th>\n",
              "      <th>casosAcumulado</th>\n",
              "      <th>casosNovos</th>\n",
              "      <th>obitosAcumulado</th>\n",
              "      <th>obitosNovos</th>\n",
              "      <th>Recuperadosnovos</th>\n",
              "      <th>emAcompanhamentoNovos</th>\n",
              "      <th>interior/metropolitana</th>\n",
              "    </tr>\n",
              "  </thead>\n",
              "  <tbody>\n",
              "    <tr>\n",
              "      <th>0</th>\n",
              "      <td>Brasil</td>\n",
              "      <td>NaN</td>\n",
              "      <td>NaN</td>\n",
              "      <td>76</td>\n",
              "      <td>NaN</td>\n",
              "      <td>NaN</td>\n",
              "      <td>NaN</td>\n",
              "      <td>2021-01-01</td>\n",
              "      <td>53</td>\n",
              "      <td>210147125.0</td>\n",
              "      <td>7700578.0</td>\n",
              "      <td>24605</td>\n",
              "      <td>195411</td>\n",
              "      <td>462</td>\n",
              "      <td>6747065.0</td>\n",
              "      <td>733959.0</td>\n",
              "      <td>NaN</td>\n",
              "    </tr>\n",
              "    <tr>\n",
              "      <th>1</th>\n",
              "      <td>Brasil</td>\n",
              "      <td>NaN</td>\n",
              "      <td>NaN</td>\n",
              "      <td>76</td>\n",
              "      <td>NaN</td>\n",
              "      <td>NaN</td>\n",
              "      <td>NaN</td>\n",
              "      <td>2021-01-02</td>\n",
              "      <td>53</td>\n",
              "      <td>210147125.0</td>\n",
              "      <td>7716405.0</td>\n",
              "      <td>15827</td>\n",
              "      <td>195725</td>\n",
              "      <td>314</td>\n",
              "      <td>6756284.0</td>\n",
              "      <td>748883.0</td>\n",
              "      <td>NaN</td>\n",
              "    </tr>\n",
              "    <tr>\n",
              "      <th>2</th>\n",
              "      <td>Brasil</td>\n",
              "      <td>NaN</td>\n",
              "      <td>NaN</td>\n",
              "      <td>76</td>\n",
              "      <td>NaN</td>\n",
              "      <td>NaN</td>\n",
              "      <td>NaN</td>\n",
              "      <td>2021-01-03</td>\n",
              "      <td>1</td>\n",
              "      <td>210147125.0</td>\n",
              "      <td>7733746.0</td>\n",
              "      <td>17341</td>\n",
              "      <td>196018</td>\n",
              "      <td>293</td>\n",
              "      <td>6769420.0</td>\n",
              "      <td>751260.0</td>\n",
              "      <td>NaN</td>\n",
              "    </tr>\n",
              "    <tr>\n",
              "      <th>3</th>\n",
              "      <td>Brasil</td>\n",
              "      <td>NaN</td>\n",
              "      <td>NaN</td>\n",
              "      <td>76</td>\n",
              "      <td>NaN</td>\n",
              "      <td>NaN</td>\n",
              "      <td>NaN</td>\n",
              "      <td>2021-01-04</td>\n",
              "      <td>1</td>\n",
              "      <td>210147125.0</td>\n",
              "      <td>7753752.0</td>\n",
              "      <td>20006</td>\n",
              "      <td>196561</td>\n",
              "      <td>543</td>\n",
              "      <td>6813008.0</td>\n",
              "      <td>724720.0</td>\n",
              "      <td>NaN</td>\n",
              "    </tr>\n",
              "    <tr>\n",
              "      <th>4</th>\n",
              "      <td>Brasil</td>\n",
              "      <td>NaN</td>\n",
              "      <td>NaN</td>\n",
              "      <td>76</td>\n",
              "      <td>NaN</td>\n",
              "      <td>NaN</td>\n",
              "      <td>NaN</td>\n",
              "      <td>2021-01-05</td>\n",
              "      <td>1</td>\n",
              "      <td>210147125.0</td>\n",
              "      <td>7810400.0</td>\n",
              "      <td>56648</td>\n",
              "      <td>197732</td>\n",
              "      <td>1171</td>\n",
              "      <td>6875230.0</td>\n",
              "      <td>681961.0</td>\n",
              "      <td>NaN</td>\n",
              "    </tr>\n",
              "  </tbody>\n",
              "</table>\n",
              "</div>"
            ],
            "text/plain": [
              "   regiao estado  ... emAcompanhamentoNovos  interior/metropolitana\n",
              "0  Brasil    NaN  ...              733959.0                     NaN\n",
              "1  Brasil    NaN  ...              748883.0                     NaN\n",
              "2  Brasil    NaN  ...              751260.0                     NaN\n",
              "3  Brasil    NaN  ...              724720.0                     NaN\n",
              "4  Brasil    NaN  ...              681961.0                     NaN\n",
              "\n",
              "[5 rows x 17 columns]"
            ]
          },
          "metadata": {
            "tags": []
          },
          "execution_count": 7
        }
      ]
    },
    {
      "cell_type": "code",
      "metadata": {
        "colab": {
          "base_uri": "https://localhost:8080/"
        },
        "id": "JkD0JwWVMnW0",
        "outputId": "beed6a4b-76ad-435b-e5e7-892b0862d2f0"
      },
      "source": [
        "#total de linhas e colunas.\n",
        "df.shape"
      ],
      "execution_count": null,
      "outputs": [
        {
          "output_type": "execute_result",
          "data": {
            "text/plain": [
              "(1017039, 17)"
            ]
          },
          "metadata": {
            "tags": []
          },
          "execution_count": 9
        }
      ]
    },
    {
      "cell_type": "code",
      "metadata": {
        "colab": {
          "base_uri": "https://localhost:8080/"
        },
        "id": "3GdPEuuiMwne",
        "outputId": "b95edb7b-abc0-4873-c0d9-ad99abd11fa3"
      },
      "source": [
        "#nomes das colunas\n",
        "df.columns"
      ],
      "execution_count": null,
      "outputs": [
        {
          "output_type": "execute_result",
          "data": {
            "text/plain": [
              "Index(['regiao', 'estado', 'municipio', 'coduf', 'codmun', 'codRegiaoSaude',\n",
              "       'nomeRegiaoSaude', 'data', 'semanaEpi', 'populacaoTCU2019',\n",
              "       'casosAcumulado', 'casosNovos', 'obitosAcumulado', 'obitosNovos',\n",
              "       'Recuperadosnovos', 'emAcompanhamentoNovos', 'interior/metropolitana'],\n",
              "      dtype='object')"
            ]
          },
          "metadata": {
            "tags": []
          },
          "execution_count": 10
        }
      ]
    },
    {
      "cell_type": "code",
      "metadata": {
        "colab": {
          "base_uri": "https://localhost:8080/"
        },
        "id": "vTxqVMfaM3Q9",
        "outputId": "48a62be8-7798-4399-d4e2-f3af3e39ecfd"
      },
      "source": [
        "#tipo de dado em cada coluna\n",
        "df.dtypes"
      ],
      "execution_count": null,
      "outputs": [
        {
          "output_type": "execute_result",
          "data": {
            "text/plain": [
              "regiao                     object\n",
              "estado                     object\n",
              "municipio                  object\n",
              "coduf                       int64\n",
              "codmun                    float64\n",
              "codRegiaoSaude            float64\n",
              "nomeRegiaoSaude            object\n",
              "data                       object\n",
              "semanaEpi                   int64\n",
              "populacaoTCU2019          float64\n",
              "casosAcumulado            float64\n",
              "casosNovos                  int64\n",
              "obitosAcumulado             int64\n",
              "obitosNovos                 int64\n",
              "Recuperadosnovos          float64\n",
              "emAcompanhamentoNovos     float64\n",
              "interior/metropolitana    float64\n",
              "dtype: object"
            ]
          },
          "metadata": {
            "tags": []
          },
          "execution_count": 11
        }
      ]
    },
    {
      "cell_type": "code",
      "metadata": {
        "colab": {
          "base_uri": "https://localhost:8080/",
          "height": 309
        },
        "id": "2bKX19SaNFR3",
        "outputId": "2a4522d8-7d33-42c6-86f2-fef0d7659b44"
      },
      "source": [
        "#vendo as ultimas linhas do conjunto\n",
        "df.tail()"
      ],
      "execution_count": null,
      "outputs": [
        {
          "output_type": "execute_result",
          "data": {
            "text/html": [
              "<div>\n",
              "<style scoped>\n",
              "    .dataframe tbody tr th:only-of-type {\n",
              "        vertical-align: middle;\n",
              "    }\n",
              "\n",
              "    .dataframe tbody tr th {\n",
              "        vertical-align: top;\n",
              "    }\n",
              "\n",
              "    .dataframe thead th {\n",
              "        text-align: right;\n",
              "    }\n",
              "</style>\n",
              "<table border=\"1\" class=\"dataframe\">\n",
              "  <thead>\n",
              "    <tr style=\"text-align: right;\">\n",
              "      <th></th>\n",
              "      <th>regiao</th>\n",
              "      <th>estado</th>\n",
              "      <th>municipio</th>\n",
              "      <th>coduf</th>\n",
              "      <th>codmun</th>\n",
              "      <th>codRegiaoSaude</th>\n",
              "      <th>nomeRegiaoSaude</th>\n",
              "      <th>data</th>\n",
              "      <th>semanaEpi</th>\n",
              "      <th>populacaoTCU2019</th>\n",
              "      <th>casosAcumulado</th>\n",
              "      <th>casosNovos</th>\n",
              "      <th>obitosAcumulado</th>\n",
              "      <th>obitosNovos</th>\n",
              "      <th>Recuperadosnovos</th>\n",
              "      <th>emAcompanhamentoNovos</th>\n",
              "      <th>interior/metropolitana</th>\n",
              "    </tr>\n",
              "  </thead>\n",
              "  <tbody>\n",
              "    <tr>\n",
              "      <th>1017034</th>\n",
              "      <td>Centro-Oeste</td>\n",
              "      <td>DF</td>\n",
              "      <td>Brasília</td>\n",
              "      <td>53</td>\n",
              "      <td>530010.0</td>\n",
              "      <td>53001.0</td>\n",
              "      <td>DISTRITO FEDERAL</td>\n",
              "      <td>2021-06-26</td>\n",
              "      <td>25</td>\n",
              "      <td>3015268.0</td>\n",
              "      <td>427432.0</td>\n",
              "      <td>786</td>\n",
              "      <td>9184</td>\n",
              "      <td>12</td>\n",
              "      <td>NaN</td>\n",
              "      <td>NaN</td>\n",
              "      <td>1.0</td>\n",
              "    </tr>\n",
              "    <tr>\n",
              "      <th>1017035</th>\n",
              "      <td>Centro-Oeste</td>\n",
              "      <td>DF</td>\n",
              "      <td>Brasília</td>\n",
              "      <td>53</td>\n",
              "      <td>530010.0</td>\n",
              "      <td>53001.0</td>\n",
              "      <td>DISTRITO FEDERAL</td>\n",
              "      <td>2021-06-27</td>\n",
              "      <td>26</td>\n",
              "      <td>3015268.0</td>\n",
              "      <td>428352.0</td>\n",
              "      <td>920</td>\n",
              "      <td>9193</td>\n",
              "      <td>9</td>\n",
              "      <td>NaN</td>\n",
              "      <td>NaN</td>\n",
              "      <td>1.0</td>\n",
              "    </tr>\n",
              "    <tr>\n",
              "      <th>1017036</th>\n",
              "      <td>Centro-Oeste</td>\n",
              "      <td>DF</td>\n",
              "      <td>Brasília</td>\n",
              "      <td>53</td>\n",
              "      <td>530010.0</td>\n",
              "      <td>53001.0</td>\n",
              "      <td>DISTRITO FEDERAL</td>\n",
              "      <td>2021-06-28</td>\n",
              "      <td>26</td>\n",
              "      <td>3015268.0</td>\n",
              "      <td>429018.0</td>\n",
              "      <td>666</td>\n",
              "      <td>9206</td>\n",
              "      <td>13</td>\n",
              "      <td>NaN</td>\n",
              "      <td>NaN</td>\n",
              "      <td>1.0</td>\n",
              "    </tr>\n",
              "    <tr>\n",
              "      <th>1017037</th>\n",
              "      <td>Centro-Oeste</td>\n",
              "      <td>DF</td>\n",
              "      <td>Brasília</td>\n",
              "      <td>53</td>\n",
              "      <td>530010.0</td>\n",
              "      <td>53001.0</td>\n",
              "      <td>DISTRITO FEDERAL</td>\n",
              "      <td>2021-06-29</td>\n",
              "      <td>26</td>\n",
              "      <td>3015268.0</td>\n",
              "      <td>429636.0</td>\n",
              "      <td>618</td>\n",
              "      <td>9232</td>\n",
              "      <td>26</td>\n",
              "      <td>NaN</td>\n",
              "      <td>NaN</td>\n",
              "      <td>1.0</td>\n",
              "    </tr>\n",
              "    <tr>\n",
              "      <th>1017038</th>\n",
              "      <td>Centro-Oeste</td>\n",
              "      <td>DF</td>\n",
              "      <td>Brasília</td>\n",
              "      <td>53</td>\n",
              "      <td>530010.0</td>\n",
              "      <td>53001.0</td>\n",
              "      <td>DISTRITO FEDERAL</td>\n",
              "      <td>2021-06-30</td>\n",
              "      <td>26</td>\n",
              "      <td>3015268.0</td>\n",
              "      <td>430461.0</td>\n",
              "      <td>825</td>\n",
              "      <td>9251</td>\n",
              "      <td>19</td>\n",
              "      <td>NaN</td>\n",
              "      <td>NaN</td>\n",
              "      <td>1.0</td>\n",
              "    </tr>\n",
              "  </tbody>\n",
              "</table>\n",
              "</div>"
            ],
            "text/plain": [
              "               regiao estado  ... emAcompanhamentoNovos  interior/metropolitana\n",
              "1017034  Centro-Oeste     DF  ...                   NaN                     1.0\n",
              "1017035  Centro-Oeste     DF  ...                   NaN                     1.0\n",
              "1017036  Centro-Oeste     DF  ...                   NaN                     1.0\n",
              "1017037  Centro-Oeste     DF  ...                   NaN                     1.0\n",
              "1017038  Centro-Oeste     DF  ...                   NaN                     1.0\n",
              "\n",
              "[5 rows x 17 columns]"
            ]
          },
          "metadata": {
            "tags": []
          },
          "execution_count": 12
        }
      ]
    },
    {
      "cell_type": "code",
      "metadata": {
        "colab": {
          "base_uri": "https://localhost:8080/",
          "height": 317
        },
        "id": "CIXcI6AmNOlZ",
        "outputId": "8e0153e9-0689-48d5-a54e-e601b6c36ca3"
      },
      "source": [
        "df.describe()"
      ],
      "execution_count": null,
      "outputs": [
        {
          "output_type": "execute_result",
          "data": {
            "text/html": [
              "<div>\n",
              "<style scoped>\n",
              "    .dataframe tbody tr th:only-of-type {\n",
              "        vertical-align: middle;\n",
              "    }\n",
              "\n",
              "    .dataframe tbody tr th {\n",
              "        vertical-align: top;\n",
              "    }\n",
              "\n",
              "    .dataframe thead th {\n",
              "        text-align: right;\n",
              "    }\n",
              "</style>\n",
              "<table border=\"1\" class=\"dataframe\">\n",
              "  <thead>\n",
              "    <tr style=\"text-align: right;\">\n",
              "      <th></th>\n",
              "      <th>coduf</th>\n",
              "      <th>codmun</th>\n",
              "      <th>codRegiaoSaude</th>\n",
              "      <th>semanaEpi</th>\n",
              "      <th>populacaoTCU2019</th>\n",
              "      <th>casosAcumulado</th>\n",
              "      <th>casosNovos</th>\n",
              "      <th>obitosAcumulado</th>\n",
              "      <th>obitosNovos</th>\n",
              "      <th>Recuperadosnovos</th>\n",
              "      <th>emAcompanhamentoNovos</th>\n",
              "      <th>interior/metropolitana</th>\n",
              "    </tr>\n",
              "  </thead>\n",
              "  <tbody>\n",
              "    <tr>\n",
              "      <th>count</th>\n",
              "      <td>1.017039e+06</td>\n",
              "      <td>1.011971e+06</td>\n",
              "      <td>1.008170e+06</td>\n",
              "      <td>1.017039e+06</td>\n",
              "      <td>1.013238e+06</td>\n",
              "      <td>1.017039e+06</td>\n",
              "      <td>1.017039e+06</td>\n",
              "      <td>1.017039e+06</td>\n",
              "      <td>1.017039e+06</td>\n",
              "      <td>1.810000e+02</td>\n",
              "      <td>1.810000e+02</td>\n",
              "      <td>1.008170e+06</td>\n",
              "    </tr>\n",
              "    <tr>\n",
              "      <th>mean</th>\n",
              "      <td>3.236038e+01</td>\n",
              "      <td>3.252580e+05</td>\n",
              "      <td>3.240312e+04</td>\n",
              "      <td>1.372928e+01</td>\n",
              "      <td>1.126190e+05</td>\n",
              "      <td>6.855709e+03</td>\n",
              "      <td>3.209661e+01</td>\n",
              "      <td>1.806645e+02</td>\n",
              "      <td>9.531109e-01</td>\n",
              "      <td>1.140439e+07</td>\n",
              "      <td>1.027412e+06</td>\n",
              "      <td>6.929982e-02</td>\n",
              "    </tr>\n",
              "    <tr>\n",
              "      <th>std</th>\n",
              "      <td>9.873301e+00</td>\n",
              "      <td>9.853507e+04</td>\n",
              "      <td>9.836346e+03</td>\n",
              "      <td>8.435569e+00</td>\n",
              "      <td>2.935316e+06</td>\n",
              "      <td>1.835952e+05</td>\n",
              "      <td>9.088292e+02</td>\n",
              "      <td>4.967103e+03</td>\n",
              "      <td>3.007990e+01</td>\n",
              "      <td>3.029941e+06</td>\n",
              "      <td>1.696582e+05</td>\n",
              "      <td>2.539634e-01</td>\n",
              "    </tr>\n",
              "    <tr>\n",
              "      <th>min</th>\n",
              "      <td>1.100000e+01</td>\n",
              "      <td>1.100000e+05</td>\n",
              "      <td>1.100100e+04</td>\n",
              "      <td>1.000000e+00</td>\n",
              "      <td>7.810000e+02</td>\n",
              "      <td>0.000000e+00</td>\n",
              "      <td>-4.781500e+04</td>\n",
              "      <td>0.000000e+00</td>\n",
              "      <td>-4.109000e+03</td>\n",
              "      <td>6.747065e+06</td>\n",
              "      <td>6.383260e+05</td>\n",
              "      <td>0.000000e+00</td>\n",
              "    </tr>\n",
              "    <tr>\n",
              "      <th>25%</th>\n",
              "      <td>2.500000e+01</td>\n",
              "      <td>2.512000e+05</td>\n",
              "      <td>2.501000e+04</td>\n",
              "      <td>7.000000e+00</td>\n",
              "      <td>5.474000e+03</td>\n",
              "      <td>2.230000e+02</td>\n",
              "      <td>0.000000e+00</td>\n",
              "      <td>4.000000e+00</td>\n",
              "      <td>0.000000e+00</td>\n",
              "      <td>8.710840e+06</td>\n",
              "      <td>8.765710e+05</td>\n",
              "      <td>0.000000e+00</td>\n",
              "    </tr>\n",
              "    <tr>\n",
              "      <th>50%</th>\n",
              "      <td>3.100000e+01</td>\n",
              "      <td>3.146100e+05</td>\n",
              "      <td>3.105900e+04</td>\n",
              "      <td>1.300000e+01</td>\n",
              "      <td>1.168900e+04</td>\n",
              "      <td>5.320000e+02</td>\n",
              "      <td>1.000000e+00</td>\n",
              "      <td>1.000000e+01</td>\n",
              "      <td>0.000000e+00</td>\n",
              "      <td>1.116994e+07</td>\n",
              "      <td>1.060692e+06</td>\n",
              "      <td>0.000000e+00</td>\n",
              "    </tr>\n",
              "    <tr>\n",
              "      <th>75%</th>\n",
              "      <td>4.100000e+01</td>\n",
              "      <td>4.119150e+05</td>\n",
              "      <td>4.101500e+04</td>\n",
              "      <td>2.000000e+01</td>\n",
              "      <td>2.576200e+04</td>\n",
              "      <td>1.416000e+03</td>\n",
              "      <td>6.000000e+00</td>\n",
              "      <td>2.800000e+01</td>\n",
              "      <td>0.000000e+00</td>\n",
              "      <td>1.406240e+07</td>\n",
              "      <td>1.142023e+06</td>\n",
              "      <td>0.000000e+00</td>\n",
              "    </tr>\n",
              "    <tr>\n",
              "      <th>max</th>\n",
              "      <td>7.600000e+01</td>\n",
              "      <td>5.300100e+05</td>\n",
              "      <td>5.300100e+04</td>\n",
              "      <td>5.300000e+01</td>\n",
              "      <td>2.101471e+08</td>\n",
              "      <td>1.855714e+07</td>\n",
              "      <td>1.152280e+05</td>\n",
              "      <td>5.180660e+05</td>\n",
              "      <td>4.249000e+03</td>\n",
              "      <td>1.677914e+07</td>\n",
              "      <td>1.317658e+06</td>\n",
              "      <td>1.000000e+00</td>\n",
              "    </tr>\n",
              "  </tbody>\n",
              "</table>\n",
              "</div>"
            ],
            "text/plain": [
              "              coduf  ...  interior/metropolitana\n",
              "count  1.017039e+06  ...            1.008170e+06\n",
              "mean   3.236038e+01  ...            6.929982e-02\n",
              "std    9.873301e+00  ...            2.539634e-01\n",
              "min    1.100000e+01  ...            0.000000e+00\n",
              "25%    2.500000e+01  ...            0.000000e+00\n",
              "50%    3.100000e+01  ...            0.000000e+00\n",
              "75%    4.100000e+01  ...            0.000000e+00\n",
              "max    7.600000e+01  ...            1.000000e+00\n",
              "\n",
              "[8 rows x 12 columns]"
            ]
          },
          "metadata": {
            "tags": []
          },
          "execution_count": 13
        }
      ]
    },
    {
      "cell_type": "code",
      "metadata": {
        "colab": {
          "base_uri": "https://localhost:8080/"
        },
        "id": "_95tHTwBNwLD",
        "outputId": "a00b4486-7cb3-497e-f512-4c47670927ed"
      },
      "source": [
        "df[\"obitosNovos\"].unique()"
      ],
      "execution_count": null,
      "outputs": [
        {
          "output_type": "execute_result",
          "data": {
            "text/plain": [
              "array([  462,   314,   293,   543,  1171,  1242,  1524,   962,   469,\n",
              "         480,  1110,  1274,  1131,  1151,  1050,   551,   452,  1192,\n",
              "        1340,  1316,  1096,  1202,   592,   627,  1214,  1283,  1386,\n",
              "        1119,  1279,   559,   595,  1210,  1254,  1232,  1239,   978,\n",
              "         522,   636,  1350,  1330,  1351,  1288,  1043,   713,   528,\n",
              "        1167,  1150,  1367,  1308,  1212,   527,   639,  1428,  1541,\n",
              "        1337,   721,   778,  1641,  1910,  1699,  1800,  1555,  1086,\n",
              "         987,  1972,  2286,  2233,  2216,  1997,  1127,  1057,  2841,\n",
              "        2648,  2724,  2815,  2438,  1290,  1383,  3251,  2009,  2777,\n",
              "        3650,  3438,  1656,  1660,  3780,  3869,  3769,  2922,  1987,\n",
              "        1240,  1319,  4195,  3829,  4249,  3693,  2616,  1803,  1480,\n",
              "        3808,  3459,  3560,  3305,  2929,  1657,  1347,  3321,  3472,\n",
              "        2027,  2914,  3076,  1305,  1139,  3086,  3163,  3001,  2595,\n",
              "        2656,   983,  2966,  2811,  2550,  2165,  2202,  1024,   889,\n",
              "        2311,  2494,  2383,  2211,  2087,  1036,   786,  2513,  2641,\n",
              "        2403,  2215,  1899,   860,   790,  2173,  2398,  2245,  2371,\n",
              "        2012,   874,  2408,  2507,  1682,  1454,  1689,   873,  1010,\n",
              "        2378,  2723,  2504,  2037,  1129,   827,  2468,  2997,  2495,\n",
              "        2301,  1025,   761,  2131,  2392,  2032,  2001,  1593,   739,\n",
              "         618,  1893,  2081,     5,     3,     7,     8,    12,    23,\n",
              "          15,     9,    24,    11,    17,     6,    26,    13,    14,\n",
              "          21,    18,    25,    22,    42,    27,     2,    28,    37,\n",
              "          44,    31,    16,    20,    46,    47,    49,    66,    32,\n",
              "          60,    38,    35,    33,    48,    55,    34,    36,    53,\n",
              "          50,    54,    45,    41,    56,    39,    58,    19,    51,\n",
              "          30,    52,    10,     4,     1,     0,    43,    86,   123,\n",
              "          69,   113,    80,    68,   117,   142,   148,   159,   132,\n",
              "         162,    95,   192,   136,   120,   225,    99,   149,   150,\n",
              "         152,   119,   169,   167,   134,   108,    81,   105,    73,\n",
              "          29,    78,    74,    75,    85,    57,    40,    76,   103,\n",
              "          84,    62,    87,    72,   135,   100,    61,    77,   116,\n",
              "         115,   112,   146,    98,    91,    88,    92,   130,    90,\n",
              "          97,   102,   122,    65,    64,   104,    63,   121,    70,\n",
              "         107,   127,   164,   178,   265,   195,   246,   143,   101,\n",
              "         285,   175,   219,   425,   155,   125,   138,   349,   109,\n",
              "         165,   151,   106,   133,   114,   409,   144,   272,    79,\n",
              "          83,    59,    82,    71,    89,    67,    94,   111,   137,\n",
              "         118,   153,   139,   160,   189,   141,    93,   110,    96,\n",
              "         128,   154,   173,   214,   170,   131,   216,   184,   168,\n",
              "         140,   243,   172,   190,   206,   193,   200,   161,   227,\n",
              "         263,   213,   274,   237,   224,   374,   316,   479,   321,\n",
              "         417,   396,   486,   320,   508,   492,   455,   368,   386,\n",
              "         484,   433,   402,   369,   129,   468,   392,   493,   331,\n",
              "         488,   416,   298,   337,   253,   441,   328,   259,   326,\n",
              "         261,   373,   258,   252,   278,   310,   295,   327,   329,\n",
              "         208,   364,   244,   242,   236,   324,   538,   280,   319,\n",
              "         270,   283,   353,   255,   254,   279,   413,   209,   220,\n",
              "         281,   231,   188,   205,   221,   187,   226,   156,   182,\n",
              "         191,   158,   181,   163,   147,   171,   197,   126,   186,\n",
              "         268,   387,   411,   347,   375,   381,   260,   300,   338,\n",
              "         287,   446,   365,   223,   361,   330,   335,   333,   257,\n",
              "         203,   282,   303,   344,   289,   249,   176,   256,   325,\n",
              "         229,   277,   267,   234,   185,   210,   334,   269,   323,\n",
              "         304,   311,   286,   332,   241,   232,   424,   398,   357,\n",
              "         345,   299,   367,   313,   370,   517,   440,   521,   434,\n",
              "         679,   617,   659,   620,   616,  1021,   599,  1193,  1051,\n",
              "         292,  1209,  1160,  1082,   818,   198,   145,  1389,  1299,\n",
              "        1008,   657,   510,  1282,  1095,  1060,   791,   771,  1122,\n",
              "         977,   183,   863,   875,  1044,   814,   876,   750,   849,\n",
              "         689,   696,   583,   660,   806,   578,   502,   810,   747,\n",
              "         585,   580,   898,   666,   609,   703,   570,   836,   717,\n",
              "         514,   718,   212,   767,   651,   733,   897,   795,   619,\n",
              "         714,   722,   843,   724,   781,   772,   825,   744,   397,\n",
              "          -1,   -38,   180,   247,   157,   262,   312,   296,   196,\n",
              "         372,   271,   204,   240,   317,   202,   371,   352,   475,\n",
              "         301,   201,   179,   275,   250,   276,   501,   390,   307,\n",
              "         288,   342,   408,   412,   418,   166,   341,   177,   233,\n",
              "         124,   238,    -4,    -2,    -6,    -5,   -20,   -18,    -8,\n",
              "          -7,    -3,   -10,   -26,   -30,   -35,   -39,   -40,   -12,\n",
              "         -15,   -11,   -14,   -53,   -59,   -58,   -16,    -9,   -61,\n",
              "         -60,   -50,   -19,   -49,   -13,   -45,   -17,  -140,   -94,\n",
              "         -36,   -23,  1379, -1379, -1392,  1398,   -27,   -29,   -63,\n",
              "         766,  -764,  -811,   812,   -64,   -24,   -93,  -579,  -651,\n",
              "         658,   -74,   359,  -359,  -370,   -22,  4109, -4109, -4093,\n",
              "        4105,   -47,   -32,   -28,   -99,   -82,  -110,  -113,  -163,\n",
              "        -181,  -119,  -121,   -34,   -88,   -31,   -25,   -84,   218,\n",
              "        -218,  -226,   291,   297,   248,   378,   207,   -57,  -337,\n",
              "         -51,  -286,   290,  -356,  -307,   -37,  1020, -1017, -1103,\n",
              "        1108, -1040,  1134, -1134,   -48,   -89,   -92,  -152,   -85,\n",
              "        -175,  -150,  -178,  -374,  -227,  -151,  -395,  -219,  -169,\n",
              "         -41,  -186,  -193,  -203])"
            ]
          },
          "metadata": {
            "tags": []
          },
          "execution_count": 14
        }
      ]
    },
    {
      "cell_type": "code",
      "metadata": {
        "colab": {
          "base_uri": "https://localhost:8080/"
        },
        "id": "2aErLjPjOdUr",
        "outputId": "8e44bc3c-f7c5-4385-c8e8-dda2be8a9c92"
      },
      "source": [
        "df.groupby(\"data\")[\"obitosNovos\"].nunique()"
      ],
      "execution_count": null,
      "outputs": [
        {
          "output_type": "execute_result",
          "data": {
            "text/plain": [
              "data\n",
              "2021-01-01    29\n",
              "2021-01-02    28\n",
              "2021-01-03    19\n",
              "2021-01-04    28\n",
              "2021-01-05    35\n",
              "              ..\n",
              "2021-06-26    41\n",
              "2021-06-27    34\n",
              "2021-06-28    31\n",
              "2021-06-29    48\n",
              "2021-06-30    52\n",
              "Name: obitosNovos, Length: 181, dtype: int64"
            ]
          },
          "metadata": {
            "tags": []
          },
          "execution_count": 15
        }
      ]
    },
    {
      "cell_type": "code",
      "metadata": {
        "colab": {
          "base_uri": "https://localhost:8080/"
        },
        "id": "uUpjn2AJPasK",
        "outputId": "5e583c7e-f6be-401e-b01a-e8093e40533d"
      },
      "source": [
        "df[\"obitosNovos\"].mean()"
      ],
      "execution_count": null,
      "outputs": [
        {
          "output_type": "execute_result",
          "data": {
            "text/plain": [
              "0.953110942648217"
            ]
          },
          "metadata": {
            "tags": []
          },
          "execution_count": 18
        }
      ]
    },
    {
      "cell_type": "code",
      "metadata": {
        "colab": {
          "base_uri": "https://localhost:8080/",
          "height": 301
        },
        "id": "iM_h5oynQd06",
        "outputId": "713bb77e-6357-45fb-8b5a-5bd86a8332de"
      },
      "source": [
        "df[\"obitosNovos\"].value_counts().plot.bar()"
      ],
      "execution_count": null,
      "outputs": [
        {
          "output_type": "execute_result",
          "data": {
            "text/plain": [
              "<matplotlib.axes._subplots.AxesSubplot at 0x7f6fac403d10>"
            ]
          },
          "metadata": {
            "tags": []
          },
          "execution_count": 23
        },
        {
          "output_type": "display_data",
          "data": {
            "image/png": "[encoded data removed]",
            "text/plain": [
              "<Figure size 432x288 with 1 Axes>"
            ]
          },
          "metadata": {
            "tags": [],
            "needs_background": "light"
          }
        }
      ]
    },
    {
      "cell_type": "code",
      "metadata": {
        "colab": {
          "base_uri": "https://localhost:8080/",
          "height": 265
        },
        "id": "rvPLnBzHRsnM",
        "outputId": "274c9fe7-0990-43a7-d90d-3f8101758261"
      },
      "source": [
        "df.groupby(df[\"data\"])[\"obitosNovos\"].sum().plot.pie()"
      ],
      "execution_count": null,
      "outputs": [
        {
          "output_type": "execute_result",
          "data": {
            "text/plain": [
              "<matplotlib.axes._subplots.AxesSubplot at 0x7f6fac54f250>"
            ]
          },
          "metadata": {
            "tags": []
          },
          "execution_count": 25
        },
        {
          "output_type": "display_data",
          "data": {
            "image/png": "[encoded data removed]",
            "text/plain": [
              "<Figure size 432x288 with 1 Axes>"
            ]
          },
          "metadata": {
            "tags": []
          }
        }
      ]
    }
  ]
}